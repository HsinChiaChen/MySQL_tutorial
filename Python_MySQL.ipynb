{
 "cells": [
  {
   "cell_type": "markdown",
   "metadata": {},
   "source": [
    "# python 連接 MySQL"
   ]
  },
  {
   "cell_type": "code",
   "execution_count": null,
   "metadata": {
    "vscode": {
     "languageId": "plaintext"
    }
   },
   "outputs": [],
   "source": [
    "pip install mysql-connector-python"
   ]
  },
  {
   "cell_type": "code",
   "execution_count": null,
   "metadata": {
    "vscode": {
     "languageId": "plaintext"
    }
   },
   "outputs": [],
   "source": [
    "import mysql.connector\n",
    "\n",
    "connection = mysql.connector.connect(host = 'localhost',\n",
    "                                    port = '3306',\n",
    "                                    user = 'root',\n",
    "                                    password = '19991009')\n",
    "\n",
    "cursor = connection.cursor()\n",
    "\n",
    "# 創建 `qq` 資料庫\n",
    "cursor.execute(\"CREATE DATABASE `qq`;\")\n",
    "\n",
    "# 取得所有資料庫名稱\n",
    "cursor.execute(\"SHOW DATABASES;\")\n",
    "records = sursor.fetchall()\n",
    "for r in records:\n",
    "    print(r)\n",
    "    \n",
    "# 選擇資料庫\n",
    "cursor.execute(\"USE `sql_tutoral`;\")\n",
    "\n",
    "# 創建表格\n",
    "cursor.execute('CREATE TABLE `qq`(qq INT)')\n",
    "\n",
    "cursor.close()\n",
    "connection.close()\n"
   ]
  },
  {
   "cell_type": "code",
   "execution_count": null,
   "metadata": {
    "vscode": {
     "languageId": "plaintext"
    }
   },
   "outputs": [],
   "source": [
    "import mysql.connector\n",
    "\n",
    "connection = mysql.connector.connect(host = 'localhost',\n",
    "                                    port = '3306',\n",
    "                                    user = 'root',\n",
    "                                    password = '19991009'\n",
    "                                    database = 'sql_tutoral')\n",
    "\n",
    "cursor = connection.cursor()\n",
    "\n",
    "# 取得部門表格所有資料\n",
    "cursor.execute('SELECT * FEOM `branch`;')\n",
    "records = sursor.fetchall()\n",
    "for r in records:\n",
    "    print(r)\n",
    "\n",
    "cursor.close()\n",
    "connection.close()\n"
   ]
  },
  {
   "cell_type": "code",
   "execution_count": null,
   "metadata": {
    "vscode": {
     "languageId": "plaintext"
    }
   },
   "outputs": [],
   "source": [
    "import mysql.connector\n",
    "\n",
    "connection = mysql.connector.connect(host = 'localhost',\n",
    "                                    port = '3306',\n",
    "                                    user = 'root',\n",
    "                                    password = '19991009'\n",
    "                                    database = 'sql_tutoral')\n",
    "\n",
    "cursor = connection.cursor()\n",
    "\n",
    "# 新增\n",
    "cursor.execute('INSERT INTO `branch` VALUES(5, 'qq', NULL)')\n",
    "\n",
    "# 修改\n",
    "cursor.execute('UPDATE `branch` SET `manager_id` = NULL WHERE `branch_id` = 4;')\n",
    "\n",
    "# 刪除\n",
    "cursor.execute('DELETE FROM `branch` WHERE `branch_id` = 5;')\n",
    "\n",
    "records = sursor.fetchall()\n",
    "for r in records:\n",
    "    print(r)\n",
    "\n",
    "cursor.close()\n",
    "connection.commit()\n",
    "connection.close()\n"
   ]
  }
 ],
 "metadata": {
  "language_info": {
   "name": "python"
  }
 },
 "nbformat": 4,
 "nbformat_minor": 2
}
