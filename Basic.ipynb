{
 "cells": [
  {
   "cell_type": "markdown",
   "metadata": {},
   "source": [
    "# 創建資料庫"
   ]
  },
  {
   "cell_type": "code",
   "execution_count": null,
   "metadata": {
    "vscode": {
     "languageId": "plaintext"
    }
   },
   "outputs": [],
   "source": [
    "CREATE DATABASE `sql_tutorial`;  # 生成 sql_tutorial 資料庫\n",
    "SHOW DATABASES;                  # 顯示所有資料庫\n",
    "CREATE DATABASE `database`;      # 生成 database 資料庫\n",
    "DROP DATABASE `database`;        # 刪除 database 資料庫"
   ]
  },
  {
   "cell_type": "markdown",
   "metadata": {},
   "source": [
    "# 創建表格"
   ]
  },
  {
   "cell_type": "code",
   "execution_count": null,
   "metadata": {
    "vscode": {
     "languageId": "plaintext"
    }
   },
   "outputs": [],
   "source": [
    "INT               -- 整數\n",
    "DECIMAL(m,n)      -- 有小數點的數，總共有m位數，小數點佔了n位；DECIMAL(3,2)->5.44\n",
    "VARCHAR(n)        -- 字串\n",
    "BLOB              -- (Binary Large Object) 圖片、影片、檔案...\n",
    "DATE              -- 'YYYY-MM-DD' 日期\n",
    "TIMESTAMP         -- 'YYYY-MM-DD HH:MM:SS' 紀錄時間"
   ]
  },
  {
   "cell_type": "code",
   "execution_count": null,
   "metadata": {
    "vscode": {
     "languageId": "plaintext"
    }
   },
   "outputs": [],
   "source": [
    "CREATE TABLE `student`(\n",
    "\t`student_id` INT PRIMARY KEY,\n",
    "\t`name` VARCHAR(20),\n",
    "    `major` VARCHAR(20)    \n",
    ");                               # 生成 student 表格\n",
    "\n",
    "CREATE TABLE `student`(\n",
    "\t`student_id` INT,\n",
    "\t`name` VARCHAR(20),\n",
    "    `major` VARCHAR(20),\n",
    "    PRIMARY KEY(`student_id`)\n",
    ");                               # PRIMARY KEY 不同寫法\n",
    "\n",
    "DESCRIBE `student`;              # 顯示 student 表格屬性\n",
    "DROP TABLE `student`;            # 刪除 student 表格\n",
    "\n",
    "ALTER TABLE `student` ADD `gpa` DECIMAL(3,2);    # student 表格中增加 gpa 行\n",
    "ALTER TABLE `student` DROP COLUMN `gpa`;         # student 表格中刪除 gpa 行\n"
   ]
  },
  {
   "cell_type": "markdown",
   "metadata": {},
   "source": [
    "# 儲存資料"
   ]
  },
  {
   "cell_type": "code",
   "execution_count": null,
   "metadata": {
    "vscode": {
     "languageId": "plaintext"
    }
   },
   "outputs": [],
   "source": [
    "SELECT * FROM `student`;         # 顯示 student 表格內容\n",
    "\n",
    "INSERT INTO `student` VALUES(1, '小白', '歷史'); # 新增 student 表格內容\n",
    "INSERT INTO `student` VALUES(2, '小黑', '生物');\n",
    "INSERT INTO `student` VALUES(3, '小綠', NULL);\n",
    "INSERT INTO `student` VALUES(3, '小藍', '英語');\n",
    "INSERT INTO `student` (`name`, `major`, `student_id`) VALUES('小藍', '英語', 4);\n",
    "INSERT INTO `student` ( `major`, `student_id`) VALUES('英語', 5);\n",
    "INSERT INTO `student` VALUES(5, NULL, '英語');"
   ]
  },
  {
   "cell_type": "markdown",
   "metadata": {},
   "source": [
    "# 限制"
   ]
  },
  {
   "cell_type": "code",
   "execution_count": null,
   "metadata": {
    "vscode": {
     "languageId": "plaintext"
    }
   },
   "outputs": [],
   "source": [
    "NOT NULL              # 不能為NULL\n",
    "UNIQUE                # 唯一\n",
    "DEFAULT               # 預設\n",
    "AUTO_INCREMENT        # 自動累進"
   ]
  },
  {
   "cell_type": "code",
   "execution_count": null,
   "metadata": {
    "vscode": {
     "languageId": "plaintext"
    }
   },
   "outputs": [],
   "source": [
    "CREATE TABLE `student`(\n",
    "\t`student_id` INT AUTO_INCREMENT,\n",
    "\t`name` VARCHAR(20) NOT NULL,\n",
    "    `major` VARCHAR(20) UNIQUE,\n",
    "    PRIMARY KEY(`student_id`)\n",
    ");\n",
    "\n",
    "CREATE TABLE `student`(\n",
    "\t`student_id` INT AUTO_INCREMENT,\n",
    "\t`name` VARCHAR(20) NOT NULL,\n",
    "    `major` VARCHAR(20) DEFAULT '歷史',\n",
    "    PRIMARY KEY(`student_id`)\n",
    ");\n",
    "\n",
    "INSERT INTO `student` ( `name`) VALUES('小白');\n",
    "INSERT INTO `student` ( `name`, `major`) VALUES('小黑', '歷史');\n",
    "INSERT INTO `student` ( `name`, `major`) VALUES('小綠', '英語');"
   ]
  },
  {
   "cell_type": "markdown",
   "metadata": {},
   "source": [
    "# 修改、刪除資料"
   ]
  },
  {
   "cell_type": "code",
   "execution_count": null,
   "metadata": {
    "vscode": {
     "languageId": "plaintext"
    }
   },
   "outputs": [],
   "source": [
    "SET SQL_SAFE_UPDATES = 0;\n",
    "\n",
    "是一條 MySQL 指令，用來關閉 SQL 安全更新模式（Safe Updates Mode）。這個模式主要用來防止執行可能影響大量數據的 UPDATE 或 DELETE 語句，特別是在 沒有 WHERE 條件 或 沒有 PRIMARY KEY / UNIQUE KEY 限制 時。\n",
    "\n",
    "> 大於\n",
    "< 小於\n",
    ">= 大於等於\n",
    "<= 小於等於\n",
    "= 等於\n",
    "<> 不等於"
   ]
  },
  {
   "cell_type": "markdown",
   "metadata": {},
   "source": [
    "CREATE TABLE `student`(\n",
    "\t`student_id` INT PRIMARY KEY,\n",
    "\t`name` VARCHAR(20),\n",
    "    `major` VARCHAR(20),\n",
    "    `score` INT\n",
    ");\n",
    "\n",
    "DROP TABLE `student`;        # 刪除 student 表格\n",
    "\n",
    "SELECT * FROM `student`;        # 顯示 student 表格內容\n",
    "\n",
    "INSERT INTO `student` VALUES(1, '小白', '英語', 50);\n",
    "INSERT INTO `student` VALUES(2, '小黃', '生物', 90);\n",
    "INSERT INTO `student` VALUES(3, '小綠', '歷史', 70);\n",
    "INSERT INTO `student` VALUES(4, '小藍', '英語', 80);\n",
    "INSERT INTO `student` VALUES(5, '小黑', '化學', 20);\n"
   ]
  },
  {
   "cell_type": "markdown",
   "metadata": {},
   "source": [
    "將`英語` 改成 `英語文學`"
   ]
  },
  {
   "cell_type": "code",
   "execution_count": null,
   "metadata": {
    "vscode": {
     "languageId": "plaintext"
    }
   },
   "outputs": [],
   "source": [
    "UPDATE `student`\n",
    "SET `major` = '英語文學'\n",
    "WHERE `major` = '英語';"
   ]
  },
  {
   "cell_type": "markdown",
   "metadata": {},
   "source": [
    "將`第三位學生的主修` 改成 `生物`"
   ]
  },
  {
   "cell_type": "code",
   "execution_count": null,
   "metadata": {
    "vscode": {
     "languageId": "plaintext"
    }
   },
   "outputs": [],
   "source": [
    "UPDATE `student`\n",
    "SET `major` = '生物'\n",
    "WHERE `student_id` = 3;"
   ]
  },
  {
   "cell_type": "markdown",
   "metadata": {},
   "source": [
    "將`生物` 或 `化學` 改成 `生化`"
   ]
  },
  {
   "cell_type": "code",
   "execution_count": null,
   "metadata": {
    "vscode": {
     "languageId": "plaintext"
    }
   },
   "outputs": [],
   "source": [
    "UPDATE `student`\n",
    "SET `major` = '生化'\n",
    "WHERE `major` = '生物' OR `major` = '化學';"
   ]
  },
  {
   "cell_type": "markdown",
   "metadata": {},
   "source": [
    "將`第一位學生` 的名字 改成 `小灰` 且 主修 改成 `物理`"
   ]
  },
  {
   "cell_type": "code",
   "execution_count": null,
   "metadata": {
    "vscode": {
     "languageId": "plaintext"
    }
   },
   "outputs": [],
   "source": [
    "UPDATE `student`\n",
    "SET `name` = '小灰', `major` = '物理'\n",
    "WHERE `student_id` = 1;"
   ]
  },
  {
   "cell_type": "markdown",
   "metadata": {},
   "source": [
    "將 ==所有的== 的 主修 改成 `物理`"
   ]
  },
  {
   "cell_type": "code",
   "execution_count": null,
   "metadata": {
    "vscode": {
     "languageId": "plaintext"
    }
   },
   "outputs": [],
   "source": [
    "UPDATE `student`\n",
    "SET`major` = '物理'"
   ]
  },
  {
   "cell_type": "markdown",
   "metadata": {},
   "source": [
    "刪除 `分數` 介於 50 至 80 之間的欄位"
   ]
  },
  {
   "cell_type": "code",
   "execution_count": null,
   "metadata": {
    "vscode": {
     "languageId": "plaintext"
    }
   },
   "outputs": [],
   "source": [
    "DELETE FROM `student`\n",
    "WHERE `score` < 80 AND `score` > 50;"
   ]
  },
  {
   "cell_type": "markdown",
   "metadata": {},
   "source": [
    "將 ==所有== 欄位清空"
   ]
  },
  {
   "cell_type": "code",
   "execution_count": null,
   "metadata": {
    "vscode": {
     "languageId": "plaintext"
    }
   },
   "outputs": [],
   "source": [
    "DELETE FROM `student`;"
   ]
  },
  {
   "cell_type": "markdown",
   "metadata": {},
   "source": [
    "# 取得、搜尋資料"
   ]
  },
  {
   "cell_type": "code",
   "execution_count": null,
   "metadata": {
    "vscode": {
     "languageId": "plaintext"
    }
   },
   "outputs": [],
   "source": [
    "SET SQL_SAFE_UPDATES = 0;\n",
    "\n",
    "CREATE TABLE `student`(\n",
    "\t`student_id` INT PRIMARY KEY,\n",
    "\t`name` VARCHAR(20),\n",
    "    `major` VARCHAR(20),\n",
    "    `score` INT\n",
    ");\n",
    "\n",
    "DROP TABLE `student`;\n",
    "\n",
    "SELECT * FROM `student`;\n",
    "\n",
    "INSERT INTO `student` VALUES(1, '小白', '英語', 50);\n",
    "INSERT INTO `student` VALUES(2, '小黃', '生物', 90);\n",
    "INSERT INTO `student` VALUES(3, '小綠', '歷史', 20);\n",
    "INSERT INTO `student` VALUES(4, '小藍', '英語', 80);\n",
    "INSERT INTO `student` VALUES(5, '小黑', '化學', 20);\n"
   ]
  },
  {
   "cell_type": "code",
   "execution_count": null,
   "metadata": {
    "vscode": {
     "languageId": "plaintext"
    }
   },
   "outputs": [],
   "source": [
    "SELECT * \n",
    "FROM `student`\n",
    "ORDER BY `score` ASC;\n",
    "\n",
    "SELECT * \n",
    "FROM `student`\n",
    "ORDER BY `score` DESC;"
   ]
  },
  {
   "cell_type": "markdown",
   "metadata": {},
   "source": [
    "排序方式先根據 `score` 再根據 `student_id`"
   ]
  },
  {
   "cell_type": "code",
   "execution_count": null,
   "metadata": {
    "vscode": {
     "languageId": "plaintext"
    }
   },
   "outputs": [],
   "source": [
    "SELECT * \n",
    "FROM `student`\n",
    "ORDER BY `score` , `student_id`;"
   ]
  },
  {
   "cell_type": "markdown",
   "metadata": {},
   "source": [
    "列出 `分數` 高的前三列"
   ]
  },
  {
   "cell_type": "code",
   "execution_count": null,
   "metadata": {
    "vscode": {
     "languageId": "plaintext"
    }
   },
   "outputs": [],
   "source": [
    "SELECT * \n",
    "FROM `student`\n",
    "ORDER BY `score` DESC\n",
    "LIMIT 3;"
   ]
  },
  {
   "cell_type": "markdown",
   "metadata": {},
   "source": [
    "列出 `主修` 為 英語 且 `分數` 不等於 80"
   ]
  },
  {
   "cell_type": "code",
   "execution_count": null,
   "metadata": {
    "vscode": {
     "languageId": "plaintext"
    }
   },
   "outputs": [],
   "source": [
    "SELECT * \n",
    "FROM `student`\n",
    "WHERE `major` = '英語' AND `score` <> 80;"
   ]
  },
  {
   "cell_type": "markdown",
   "metadata": {},
   "source": [
    "列出 `主修` 為 歷史 或 英語 或 生物 的欄位"
   ]
  },
  {
   "cell_type": "code",
   "execution_count": null,
   "metadata": {
    "vscode": {
     "languageId": "plaintext"
    }
   },
   "outputs": [],
   "source": [
    "SELECT * \n",
    "FROM `student`\n",
    "WHERE `major` IN('歷史', '英語', '生物');"
   ]
  }
 ],
 "metadata": {
  "language_info": {
   "name": "python"
  }
 },
 "nbformat": 4,
 "nbformat_minor": 2
}
