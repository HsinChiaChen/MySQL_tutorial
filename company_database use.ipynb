{
 "cells": [
  {
   "cell_type": "markdown",
   "metadata": {},
   "source": [
    "# 取得公司資料\n",
    "\n",
    "DISTINCT        #用來去除重複數據的關鍵字"
   ]
  },
  {
   "cell_type": "markdown",
   "metadata": {},
   "source": [
    "1. 取得所有員工資料"
   ]
  },
  {
   "cell_type": "code",
   "execution_count": null,
   "metadata": {
    "vscode": {
     "languageId": "plaintext"
    }
   },
   "outputs": [],
   "source": [
    "SELECT *\n",
    "FROM `employee`;"
   ]
  },
  {
   "cell_type": "markdown",
   "metadata": {},
   "source": [
    "2. 取得所有客戶資料"
   ]
  },
  {
   "cell_type": "code",
   "execution_count": null,
   "metadata": {
    "vscode": {
     "languageId": "plaintext"
    }
   },
   "outputs": [],
   "source": [
    "SELECT *\n",
    "FROM `client`;"
   ]
  },
  {
   "cell_type": "markdown",
   "metadata": {},
   "source": [
    "3. 按薪水低到高取得員工資料"
   ]
  },
  {
   "cell_type": "code",
   "execution_count": null,
   "metadata": {
    "vscode": {
     "languageId": "plaintext"
    }
   },
   "outputs": [],
   "source": [
    "SELECT *\n",
    "FROM `employee`\n",
    "ORDER BY `salary` ASC;"
   ]
  },
  {
   "cell_type": "markdown",
   "metadata": {},
   "source": [
    "4. 取得薪水前三高的員工"
   ]
  },
  {
   "cell_type": "code",
   "execution_count": null,
   "metadata": {
    "vscode": {
     "languageId": "plaintext"
    }
   },
   "outputs": [],
   "source": [
    "SELECT *\n",
    "FROM `employee`\n",
    "ORDER BY `salary` DESC\n",
    "LIMIT 3;"
   ]
  },
  {
   "cell_type": "markdown",
   "metadata": {},
   "source": [
    "5. 取得所有員工的名字"
   ]
  },
  {
   "cell_type": "code",
   "execution_count": null,
   "metadata": {
    "vscode": {
     "languageId": "plaintext"
    }
   },
   "outputs": [],
   "source": [
    "SELECT `name` FROM `employee`;"
   ]
  },
  {
   "cell_type": "markdown",
   "metadata": {},
   "source": [
    "6. 公司性別，但不重複"
   ]
  },
  {
   "cell_type": "code",
   "execution_count": null,
   "metadata": {
    "vscode": {
     "languageId": "plaintext"
    }
   },
   "outputs": [],
   "source": [
    "SELECT DISTINCT `sex` FROM `employee`; "
   ]
  },
  {
   "cell_type": "markdown",
   "metadata": {},
   "source": [
    "# 聚合函數 Aggregate function"
   ]
  },
  {
   "cell_type": "markdown",
   "metadata": {},
   "source": [
    "1. 取得員工人數"
   ]
  },
  {
   "cell_type": "code",
   "execution_count": null,
   "metadata": {
    "vscode": {
     "languageId": "plaintext"
    }
   },
   "outputs": [],
   "source": [
    "SELECT COUNT(*) FROM `employee`;"
   ]
  },
  {
   "cell_type": "markdown",
   "metadata": {},
   "source": [
    "2. 取得所有出生於 1970-01-01 之後的女性員工人數"
   ]
  },
  {
   "cell_type": "code",
   "execution_count": null,
   "metadata": {
    "vscode": {
     "languageId": "plaintext"
    }
   },
   "outputs": [],
   "source": [
    "SELECT COUNT(*)\n",
    "FROM `employee`\n",
    "WHERE `birth_date` > '1970-01-01' AND `sex` = 'F';"
   ]
  },
  {
   "cell_type": "markdown",
   "metadata": {},
   "source": [
    "3. 取得所有員工的平均薪水"
   ]
  },
  {
   "cell_type": "code",
   "execution_count": null,
   "metadata": {
    "vscode": {
     "languageId": "plaintext"
    }
   },
   "outputs": [],
   "source": [
    "SELECT AVG(`salary`) From `employee`;"
   ]
  },
  {
   "cell_type": "markdown",
   "metadata": {},
   "source": [
    "4. 取得所有員工薪水的總和"
   ]
  },
  {
   "cell_type": "code",
   "execution_count": null,
   "metadata": {
    "vscode": {
     "languageId": "plaintext"
    }
   },
   "outputs": [],
   "source": [
    "SELECT SUM(`salary`) From `employee`;"
   ]
  },
  {
   "cell_type": "markdown",
   "metadata": {},
   "source": [
    "5. 取得薪水最高的員工"
   ]
  },
  {
   "cell_type": "code",
   "execution_count": null,
   "metadata": {
    "vscode": {
     "languageId": "plaintext"
    }
   },
   "outputs": [],
   "source": [
    "SELECT MAX(`salary`)  From `employee`;"
   ]
  },
  {
   "cell_type": "markdown",
   "metadata": {},
   "source": [
    "6. 取得薪水最低的員工資訊"
   ]
  },
  {
   "cell_type": "code",
   "execution_count": null,
   "metadata": {
    "vscode": {
     "languageId": "plaintext"
    }
   },
   "outputs": [],
   "source": [
    "SELECT *\n",
    "FROM `employee`\n",
    "WHERE `salary` = (SELECT MIN(`salary`) FROM `employee`);\n",
    "\n",
    "SELECT *\n",
    "FROM `employee`\n",
    "ORDER BY `salary`\n",
    "LIMIT 1;\n"
   ]
  },
  {
   "cell_type": "markdown",
   "metadata": {},
   "source": [
    "# 萬用字元 wildcard\n",
    "\n",
    "- \\% 代表多個字元\n",
    "- \\_ 代表一個字元"
   ]
  },
  {
   "cell_type": "markdown",
   "metadata": {},
   "source": [
    "1. 取得電話號碼尾數是335的客戶"
   ]
  },
  {
   "cell_type": "code",
   "execution_count": null,
   "metadata": {
    "vscode": {
     "languageId": "plaintext"
    }
   },
   "outputs": [],
   "source": [
    "SELECT * \n",
    "FROM `client`\n",
    "WHERE `phone` LIKE '%335';"
   ]
  },
  {
   "cell_type": "markdown",
   "metadata": {},
   "source": [
    "2. 取得姓'艾'的客戶"
   ]
  },
  {
   "cell_type": "code",
   "execution_count": null,
   "metadata": {
    "vscode": {
     "languageId": "plaintext"
    }
   },
   "outputs": [],
   "source": [
    "SELECT * \n",
    "FROM `client`\n",
    "WHERE `client_name` LIKE '艾%';"
   ]
  },
  {
   "cell_type": "markdown",
   "metadata": {},
   "source": [
    "3. 取得生日在12月的員工"
   ]
  },
  {
   "cell_type": "code",
   "execution_count": null,
   "metadata": {
    "vscode": {
     "languageId": "plaintext"
    }
   },
   "outputs": [],
   "source": [
    "SELECT * \n",
    "FROM `employee`\n",
    "WHERE `birth_date` LIKE '%-12-%';\n",
    "\n",
    "SELECT * \n",
    "FROM `employee`\n",
    "WHERE `birth_date` LIKE '_____12___';"
   ]
  },
  {
   "cell_type": "markdown",
   "metadata": {},
   "source": [
    "# 聯集 union\n",
    "\n",
    "- 屬性要一致、數量要一樣\n",
    "- INT 對 INT\n",
    "- 一個對一個"
   ]
  },
  {
   "cell_type": "markdown",
   "metadata": {},
   "source": [
    "1. 員工名字 union 客戶名字"
   ]
  },
  {
   "cell_type": "code",
   "execution_count": null,
   "metadata": {
    "vscode": {
     "languageId": "plaintext"
    }
   },
   "outputs": [],
   "source": [
    "SELECT `name`\n",
    "FROM `employee`\n",
    "UNION\n",
    "SELECT `client_name`\n",
    "FROM `client`;"
   ]
  },
  {
   "cell_type": "markdown",
   "metadata": {},
   "source": [
    "2. 員工id + 員工名字  union 客戶id + 客戶名字"
   ]
  },
  {
   "cell_type": "code",
   "execution_count": null,
   "metadata": {
    "vscode": {
     "languageId": "plaintext"
    }
   },
   "outputs": [],
   "source": [
    "SELECT `emp_id`, `name`\n",
    "FROM `employee`\n",
    "UNION\n",
    "SELECT `client_id`, `client_name`\n",
    "FROM `client`;\n",
    "\n",
    "# 更換名稱\n",
    "SELECT `emp_id` AS `total_id`, `name` AS `total_name`\n",
    "FROM `employee`\n",
    "UNION\n",
    "SELECT `client_id`, `client_name`\n",
    "FROM `client`;\n"
   ]
  },
  {
   "cell_type": "markdown",
   "metadata": {},
   "source": [
    "3. 員工薪水 union 銷售金額"
   ]
  },
  {
   "cell_type": "code",
   "execution_count": null,
   "metadata": {
    "vscode": {
     "languageId": "plaintext"
    }
   },
   "outputs": [],
   "source": [
    "SELECT `salary`\n",
    "FROM `employee`\n",
    "UNION\n",
    "SELECT `total_sales`\n",
    "FROM `works_with`"
   ]
  },
  {
   "cell_type": "markdown",
   "metadata": {},
   "source": [
    "# 連接 join"
   ]
  },
  {
   "cell_type": "markdown",
   "metadata": {},
   "source": [
    "`branch`新增一項 偷懶"
   ]
  },
  {
   "cell_type": "code",
   "execution_count": null,
   "metadata": {
    "vscode": {
     "languageId": "plaintext"
    }
   },
   "outputs": [],
   "source": [
    "INSERT INTO `branch` VALUES(4, '偷懶', NULL);\n",
    "\n",
    "SELECT *\n",
    "FROM `branch`;"
   ]
  },
  {
   "cell_type": "markdown",
   "metadata": {},
   "source": [
    "取得所有部門經理的名字"
   ]
  },
  {
   "cell_type": "code",
   "execution_count": null,
   "metadata": {
    "vscode": {
     "languageId": "plaintext"
    }
   },
   "outputs": [],
   "source": [
    "SELECT `employee`.`emp_id`, `employee`.`name`, `branch`.`branch_name`\n",
    "FROM `employee`\n",
    "JOIN `branch`\n",
    "ON `employee`.`emp_id` = `branch`.`manager_id`;"
   ]
  },
  {
   "cell_type": "markdown",
   "metadata": {},
   "source": [
    "不管 `左邊` 的表格資料成不成立，都會全部回傳"
   ]
  },
  {
   "cell_type": "code",
   "execution_count": null,
   "metadata": {
    "vscode": {
     "languageId": "plaintext"
    }
   },
   "outputs": [],
   "source": [
    "SELECT `employee`.`emp_id`, `employee`.`name`, `branch`.`branch_name`\n",
    "FROM `employee` LEFT JOIN `branch`\n",
    "ON `employee`.`emp_id` = `branch`.`manager_id`;"
   ]
  },
  {
   "cell_type": "markdown",
   "metadata": {},
   "source": [
    "不管 `右邊` 的表格資料成不成立，都會全部回傳"
   ]
  },
  {
   "cell_type": "code",
   "execution_count": null,
   "metadata": {
    "vscode": {
     "languageId": "plaintext"
    }
   },
   "outputs": [],
   "source": [
    "SELECT `employee`.`emp_id`, `employee`.`name`, `branch`.`branch_name`\n",
    "FROM `employee` RIGHT JOIN `branch`\n",
    "ON `employee`.`emp_id` = `branch`.`manager_id`;"
   ]
  },
  {
   "cell_type": "markdown",
   "metadata": {},
   "source": [
    "# 子查詢 subquery`\n",
    "\n",
    "查詢語句中，使用另一個查詢語句"
   ]
  },
  {
   "cell_type": "markdown",
   "metadata": {},
   "source": [
    "1.取得研發部門經理的名字\n",
    "\n",
    "- 首先在 `branch` 找到研發部門經理的 `manager_id`\n",
    "- 再到 `employee` 中尋找對應的 `name`"
   ]
  },
  {
   "cell_type": "code",
   "execution_count": null,
   "metadata": {
    "vscode": {
     "languageId": "plaintext"
    }
   },
   "outputs": [],
   "source": [
    "SELECT `manager_id`\n",
    "FROM `branch`\n",
    "WHERE `branch_name` = '研發';\n",
    "\n",
    "SELECT `employee`.`name`\n",
    "FROM `employee`\n",
    "WHERE `emp_id` = '206';\n",
    "\n",
    "SELECT `employee`.`name`\n",
    "FROM `employee`\n",
    "WHERE `emp_id` = (\n",
    "\tSELECT `manager_id`\n",
    "\tFROM `branch`\n",
    "\tWHERE `branch_name` = '研發'\n",
    ");"
   ]
  },
  {
   "cell_type": "markdown",
   "metadata": {},
   "source": [
    "2.找出對單一客戶銷售金額超過50000的員工名字\n",
    " - 首先在 `works_with` 找到銷售金額超過50000的 `emp_id`\n",
    " - 再到 `employee` 中尋找對應的 `name`"
   ]
  },
  {
   "cell_type": "code",
   "execution_count": null,
   "metadata": {
    "vscode": {
     "languageId": "plaintext"
    }
   },
   "outputs": [],
   "source": [
    "SELECT `works_with`.`emp_id`\n",
    "FROM `works_with`\n",
    "WHERE `total_sales` > 50000;\n",
    "\n",
    "SELECT `employee`.`name`\n",
    "FROM `employee`\n",
    "WHERE `emp_id` IN (\n",
    "\tSELECT `works_with`.`emp_id`\n",
    "\tFROM `works_with`\n",
    "\tWHERE `total_sales` > 50000\n",
    ");"
   ]
  },
  {
   "cell_type": "markdown",
   "metadata": {},
   "source": [
    "3.找出對單一客戶銷售金額超過50000的員工名以及銷售金額"
   ]
  },
  {
   "cell_type": "code",
   "execution_count": null,
   "metadata": {
    "vscode": {
     "languageId": "plaintext"
    }
   },
   "outputs": [],
   "source": [
    "SELECT `employee`.`name`, `works_with`.`total_sales`\n",
    "FROM `employee`\n",
    "JOIN `works_with` ON `employee`. `emp_id`=  `works_with`.`emp_id`\n",
    "WHERE `works_with`.`total_sales` > 50000;"
   ]
  },
  {
   "cell_type": "markdown",
   "metadata": {},
   "source": [
    "# on delete"
   ]
  },
  {
   "cell_type": "markdown",
   "metadata": {},
   "source": [
    "- ON DELETE ON NULL\n",
    "\n",
    "舉例說明：有天小綠離職，207將全數被刪除，這樣一來`branch`中的`manager_id`將被更改為==NULL=="
   ]
  },
  {
   "cell_type": "code",
   "execution_count": null,
   "metadata": {
    "vscode": {
     "languageId": "plaintext"
    }
   },
   "outputs": [],
   "source": [
    "CREATE TABLE `branch`(\n",
    "\t`branch_id` INT PRIMARY KEY,\n",
    "    `branch_name` VARCHAR(20),\n",
    "    `manager_id` INT,\n",
    "    FOREIGN KEY (`manager_id`) REFERENCES `employee`(`emp_id`) ON DELETE SET NULL\n",
    ");"
   ]
  },
  {
   "cell_type": "markdown",
   "metadata": {},
   "source": [
    "- ON DELETE CASCADE\n",
    "\n",
    "舉例說明：有天小綠離職，207將全數被刪除，這樣一來`work_with`中將對應不到，將==跟著刪除==`work_with`對應207那一列"
   ]
  },
  {
   "cell_type": "code",
   "execution_count": null,
   "metadata": {
    "vscode": {
     "languageId": "plaintext"
    }
   },
   "outputs": [],
   "source": [
    "CREATE TABLE `works_with`(\n",
    "\t`emp_id` INT,\n",
    "\t`client_id` INT,\n",
    "    `total_sales` INT,\n",
    "    PRIMARY KEY(`emp_id`, `client_id`),\n",
    "    FOREIGN KEY (`emp_id`) REFERENCES `employee`(`emp_id`) ON UPDATE CASCADE,\n",
    "    FOREIGN KEY (`client_id`) REFERENCES `client`(`client_id`) ON UPDATE CASCADE\n",
    ");"
   ]
  },
  {
   "cell_type": "code",
   "execution_count": null,
   "metadata": {
    "vscode": {
     "languageId": "plaintext"
    }
   },
   "outputs": [],
   "source": [
    "DELETE FROM `employee`\n",
    "WHERE `emp_id` = '207';\n",
    "\n",
    "SELECT * \n",
    "FROM `employee`;\n",
    "\n",
    "SELECT * \n",
    "FROM `branch`;\n",
    "\n",
    "SELECT *\n",
    "FROM `works_with`;"
   ]
  }
 ],
 "metadata": {
  "language_info": {
   "name": "python"
  }
 },
 "nbformat": 4,
 "nbformat_minor": 2
}
